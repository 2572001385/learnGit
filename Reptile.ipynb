{
 "cells": [
  {
   "cell_type": "markdown",
   "metadata": {},
   "source": [
    "# Ex1"
   ]
  },
  {
   "cell_type": "code",
   "execution_count": 85,
   "metadata": {},
   "outputs": [],
   "source": [
    "import requests\n",
    "import time\n",
    "from tqdm import tqdm\n",
    "\n",
    "def search(txt: str, page: int = 1):\n",
    "    global vid_list\n",
    "\n",
    "    resp = requests.get(\n",
    "        f\"https://api.bilibili.com/x/web-interface/search/all/v2?__refresh__=true&_extra=&context=&page={page}&page_size=42&order=&duration=&from_source=&from_spmid=333.337&platform=pc&highlight=1&single_column=0&keyword={txt}&preload=true&com2co=true\"\n",
    "    )\n",
    "\n",
    "    assert resp.status_code == 200\n",
    "    resp = resp.json()\n",
    "    assert resp[\"code\"] == 0\n",
    "\n",
    "    res_list = resp[\"data\"][\"result\"]\n",
    "\n",
    "    for i in res_list:\n",
    "        if i[\"result_type\"] == \"video\":\n",
    "            vid_list = i[\"data\"]\n",
    "            break\n",
    "\n",
    "    else:\n",
    "        raise RuntimeError\n",
    "\n",
    "    return vid_list\n",
    "\n",
    "res = []\n",
    "total = []\n",
    "i = 1\n",
    "\n",
    "while True:\n",
    "    res = search(\"清华大学计算机系\", i)\n",
    "    total += res\n",
    "    if len(res) == 0:\n",
    "        break\n",
    "    i += 1\n",
    "    time.sleep(0.5)"
   ]
  },
  {
   "cell_type": "code",
   "execution_count": null,
   "metadata": {},
   "outputs": [],
   "source": [
    "resp = requests.get(\n",
    "    \"https://api.bilibili.com/x/space/upstat?mid=378915360&jsonp=jsonp\", headers={\n",
    "        \"User-Agent\" : \"Mozilla/5.0 (Windows NT 10.0; Win64; x64) AppleWebKit/537.36 (KHTML, like Gecko) Chrome/103.0.5060.114 Safari/537.36 Edg/103.0.1264.62\",\n",
    "        \"Cookie\" : \"b_nut=1646963453; buvid3=7E19B0F3-9041-CDDC-02F7-425CC3A63CD055028infoc; buvid4=20899959-29B1-49F5-E30B-9E3988645BE555028-022031109-JaQAkcnf0opEyxmVrgbL4A%3D%3D; buvid_fp_plain=undefined; _uuid=7FFF3FE6-10810D-C335-EFCF-9DD1BDF2D98A69585infoc; rpdid=|(J|)ul~kR~u0J'uYRYmYm)~l; i-wanna-go-back=-1; CURRENT_BLACKGAP=0; fingerprint=c2093e7f982f1ba1e3fae6e417d3cb45; buvid_fp=c2093e7f982f1ba1e3fae6e417d3cb45; DedeUserID=443919242; DedeUserID__ckMd5=811affd7ac994708; b_ut=5; nostalgia_conf=-1; LIVE_BUVID=AUTO6716495727026736; blackside_state=0; hit-dyn-v2=1; SESSDATA=5a385a15%2C1673549739%2Caab79%2A71; bili_jct=29afa65f5912ad91d46c5d48b8285165; CURRENT_QUALITY=32; bsource=search_bing; bp_video_offset_443919242=685288364537020400; PVID=2; sid=8iuhvr46; b_lsid=2577BF34_182207FA3C0; innersign=1; CURRENT_FNVAL=4048; b_timer=%7B%22ffp%22%3A%7B%22333.1007.fp.risk_7E19B0F3%22%3A%221821FDA9FB5%22%2C%22444.7.fp.risk_7E19B0F3%22%3A%221821FDAA75F%22%2C%22444.8.fp.risk_7E19B0F3%22%3A%221821FDAC229%22%2C%22333.999.fp.risk_7E19B0F3%22%3A%2218220CB7A25%22%2C%22333.400.fp.risk_7E19B0F3%22%3A%221822005594B%22%2C%22333.337.fp.risk_7E19B0F3%22%3A%2218220068ADA%22%2C%22333.788.fp.risk_7E19B0F3%22%3A%2218220CB711E%22%7D%7D\"\n",
    "        }\n",
    ")"
   ]
  },
  {
   "cell_type": "code",
   "execution_count": null,
   "metadata": {},
   "outputs": [],
   "source": [
    "resp.text"
   ]
  },
  {
   "cell_type": "markdown",
   "metadata": {},
   "source": [
    "# Ex2"
   ]
  },
  {
   "cell_type": "code",
   "execution_count": null,
   "metadata": {},
   "outputs": [],
   "source": [
    "resp = requests.get(\n",
    "    \"https://www.douban.com/\",\n",
    "    headers={\n",
    "        \"User-Agent\": \"Mozilla/5.0 (Windows NT 10.0; Win64; x64) AppleWebKit/537.36 (KHTML, like Gecko) Chrome/103.0.5060.114 Safari/537.36 Edg/103.0.1264.62\"\n",
    "    }\n",
    ")"
   ]
  },
  {
   "cell_type": "code",
   "execution_count": null,
   "metadata": {},
   "outputs": [],
   "source": [
    "from bs4 import BeautifulSoup as BS\n",
    "soup = BS(resp.text, \"lxml\")"
   ]
  },
  {
   "cell_type": "code",
   "execution_count": null,
   "metadata": {},
   "outputs": [],
   "source": [
    "book_list = soup.find_all(\"ul\", class_=\"time-list\")"
   ]
  },
  {
   "cell_type": "code",
   "execution_count": null,
   "metadata": {},
   "outputs": [],
   "source": [
    "book_list = book_list[0].find_all(\"li\")"
   ]
  },
  {
   "cell_type": "code",
   "execution_count": null,
   "metadata": {},
   "outputs": [],
   "source": [
    "link = list(map(lambda x: x.find(\"a\")[\"href\"], book_list))"
   ]
  },
  {
   "cell_type": "markdown",
   "metadata": {},
   "source": [
    "# Ex3"
   ]
  },
  {
   "cell_type": "code",
   "execution_count": 24,
   "metadata": {},
   "outputs": [],
   "source": [
    "from selenium.webdriver.remote.webdriver import WebDriver as wd\n",
    "from selenium.webdriver.chrome.service import Service as ChromeService\n",
    "from webdriver_manager.chrome import ChromeDriverManager\n",
    "from selenium.webdriver.common.by import By\n",
    "from selenium.webdriver.common.keys import Keys\n",
    "from selenium.webdriver.support.ui import WebDriverWait as wdw\n",
    "from selenium.webdriver.support import expected_conditions as EC\n",
    "from selenium.webdriver.common.action_chains import ActionChains as AC\n",
    "import selenium\n",
    "from bs4 import BeautifulSoup as BS\n",
    "import json"
   ]
  },
  {
   "cell_type": "code",
   "execution_count": 54,
   "metadata": {},
   "outputs": [
    {
     "name": "stdout",
     "output_type": "stream",
     "text": [
      "\n"
     ]
    },
    {
     "name": "stderr",
     "output_type": "stream",
     "text": [
      "[WDM] - ====== WebDriver manager ======\n",
      "[WDM] - Current google-chrome version is 103.0.5060\n",
      "[WDM] - Get LATEST chromedriver version for 103.0.5060 google-chrome\n",
      "[WDM] - Driver [C:\\Users\\jsxzp\\.wdm\\drivers\\chromedriver\\win32\\103.0.5060.134\\chromedriver.exe] found in cache\n"
     ]
    }
   ],
   "source": [
    "d = selenium.webdriver.Chrome(service=ChromeService(ChromeDriverManager().install()))\n",
    "d.maximize_window()\n",
    "d.implicitly_wait(0.5)\n",
    "d.get(\"https://eproxy.lib.tsinghua.edu.cn/reader/user/login\")\n",
    "d.implicitly_wait(0.5)\n",
    "username = d.find_element(By.ID, \"userCode\")\n",
    "username.send_keys(2021011825)\n",
    "password = d.find_element(By.ID, \"password\")\n",
    "password.send_keys(\"a1s2d3#@!EWQ\")\n",
    "d.find_element(By.TAG_NAME, \"button\").click()\n",
    "wdw(d, 5).until(EC.visibility_of_element_located((By.XPATH, \"//a[contains(@class, 'category-link')]\")))\n",
    "d.get('https://eproxy.lib.tsinghua.edu.cn/user/resource/visit?id=363')\n",
    "d.implicitly_wait(0.5)\n",
    "input_kw = d.find_elements(By.TAG_NAME, \"input\")[0]\n",
    "input_kw.click()\n",
    "d.implicitly_wait(0.5)\n",
    "input = d.find_element(By.CLASS_NAME, \"nk-home-bundle-search-input\")\n",
    "input.send_keys(\"input\")\n",
    "d.implicitly_wait(10)\n",
    "ac = AC(d)\n",
    "# ac.move_to_element(input)\n",
    "# ac.click()\n",
    "ac.key_down(Keys.CONTROL).send_keys('A').key_up(Keys.CONTROL).send_keys(Keys.DELETE)\n",
    "ac.perform()"
   ]
  }
 ],
 "metadata": {
  "kernelspec": {
   "display_name": "Python 3.8.13 ('summer2')",
   "language": "python",
   "name": "python3"
  },
  "language_info": {
   "codemirror_mode": {
    "name": "ipython",
    "version": 3
   },
   "file_extension": ".py",
   "mimetype": "text/x-python",
   "name": "python",
   "nbconvert_exporter": "python",
   "pygments_lexer": "ipython3",
   "version": "3.8.13"
  },
  "orig_nbformat": 4,
  "vscode": {
   "interpreter": {
    "hash": "f95c060b19a4a1d2225fb427be4d5b68c03fc4f700c7e780a67dcbb5df1cfa3d"
   }
  }
 },
 "nbformat": 4,
 "nbformat_minor": 2
}
